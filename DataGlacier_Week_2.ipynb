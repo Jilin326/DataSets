{
 "cells": [
  {
   "cell_type": "code",
   "execution_count": 42,
   "id": "28c12122",
   "metadata": {},
   "outputs": [
    {
     "name": "stdout",
     "output_type": "stream",
     "text": [
      "D:\\DataGlacier_Intern\\DataSets\n"
     ]
    }
   ],
   "source": [
    "%cd D:\\\\DataGlacier_Intern\\\\DataSets"
   ]
  },
  {
   "cell_type": "code",
   "execution_count": 43,
   "id": "ddcfb2bd",
   "metadata": {},
   "outputs": [],
   "source": [
    "import pandas as pd\n",
    "import matplotlib.pyplot as plt\n",
    "import numpy as np\n",
    "from datetime import datetime"
   ]
  },
  {
   "cell_type": "code",
   "execution_count": 44,
   "id": "567c1897",
   "metadata": {},
   "outputs": [],
   "source": [
    "#import data\n",
    "Cab_Data = pd.read_csv(\"Cab_Data.csv\", header = 0)\n",
    "City = pd.read_csv(\"City.csv\", header = 0)\n",
    "Customer_ID = pd.read_csv(\"Customer_ID.csv\", header = 0)\n",
    "Transaction_ID = pd.read_csv(\"Transaction_ID.csv\", header = 0)"
   ]
  },
  {
   "cell_type": "code",
   "execution_count": 45,
   "id": "dc5057ba",
   "metadata": {},
   "outputs": [],
   "source": [
    "#merge data\n",
    "Merged_Data = Cab_Data.merge(Transaction_ID, how=\"left\", on=\"Transaction ID\")\n",
    "Merged_Data = Merged_Data.merge(Customer_ID, how=\"left\", on=\"Customer ID\")\n",
    "Merged_Data = Merged_Data.merge(City, how=\"left\", on=\"City\")"
   ]
  },
  {
   "cell_type": "code",
   "execution_count": 46,
   "id": "27f80d31",
   "metadata": {},
   "outputs": [],
   "source": [
    "#convert date of travel column to datetime type\n",
    "Merged_Data[\"Date of Travel\"] = pd.to_datetime(Merged_Data[\"Date of Travel\"], unit=\"D\", origin=pd.Timestamp('1900-01-01'))"
   ]
  },
  {
   "cell_type": "code",
   "execution_count": 47,
   "id": "8ae7adef",
   "metadata": {},
   "outputs": [],
   "source": [
    "#input month and season column\n",
    "Merged_Data[\"Month of Travel\"] = pd.DatetimeIndex(Merged_Data[\"Date of Travel\"]).month\n",
    "Merged_Data[\"Season\"] = np.select(\n",
    "    [\n",
    "        (Merged_Data[\"Month of Travel\"] == 12) |\n",
    "        (Merged_Data[\"Month of Travel\"] == 1) |\n",
    "        (Merged_Data[\"Month of Travel\"] == 2),\n",
    "        (Merged_Data[\"Month of Travel\"] == 3) |\n",
    "        (Merged_Data[\"Month of Travel\"] == 4) |\n",
    "        (Merged_Data[\"Month of Travel\"] == 5), \n",
    "        (Merged_Data[\"Month of Travel\"] == 6) |\n",
    "        (Merged_Data[\"Month of Travel\"] == 7) |\n",
    "        (Merged_Data[\"Month of Travel\"] == 8),\n",
    "        (Merged_Data[\"Month of Travel\"] == 9) |\n",
    "        (Merged_Data[\"Month of Travel\"] == 10)|\n",
    "        (Merged_Data[\"Month of Travel\"] == 11)\n",
    "    ],\n",
    "    [\"Winter\", \"Spring\", \"Summer\", \"Autumn\"],\n",
    "    default=0\n",
    ")"
   ]
  },
  {
   "cell_type": "code",
   "execution_count": 69,
   "id": "7a9a4e5a",
   "metadata": {
    "scrolled": true
   },
   "outputs": [
    {
     "data": {
      "text/html": [
       "<div>\n",
       "<style scoped>\n",
       "    .dataframe tbody tr th:only-of-type {\n",
       "        vertical-align: middle;\n",
       "    }\n",
       "\n",
       "    .dataframe tbody tr th {\n",
       "        vertical-align: top;\n",
       "    }\n",
       "\n",
       "    .dataframe thead th {\n",
       "        text-align: right;\n",
       "    }\n",
       "</style>\n",
       "<table border=\"1\" class=\"dataframe\">\n",
       "  <thead>\n",
       "    <tr style=\"text-align: right;\">\n",
       "      <th></th>\n",
       "      <th>Transaction ID</th>\n",
       "      <th>Date of Travel</th>\n",
       "      <th>Company</th>\n",
       "      <th>City</th>\n",
       "      <th>KM Travelled</th>\n",
       "      <th>Price Charged</th>\n",
       "      <th>Cost of Trip</th>\n",
       "      <th>Customer ID</th>\n",
       "      <th>Payment_Mode</th>\n",
       "      <th>Gender</th>\n",
       "      <th>Age</th>\n",
       "      <th>Income (USD/Month)</th>\n",
       "      <th>Population</th>\n",
       "      <th>Users</th>\n",
       "      <th>Month of Travel</th>\n",
       "      <th>Season</th>\n",
       "      <th>Profit</th>\n",
       "      <th>Profit per km</th>\n",
       "      <th>Age Group</th>\n",
       "    </tr>\n",
       "  </thead>\n",
       "  <tbody>\n",
       "    <tr>\n",
       "      <th>353891</th>\n",
       "      <td>10433076</td>\n",
       "      <td>2019-01-02</td>\n",
       "      <td>Pink Cab</td>\n",
       "      <td>ATLANTA GA</td>\n",
       "      <td>17.82</td>\n",
       "      <td>238.62</td>\n",
       "      <td>190.6740</td>\n",
       "      <td>29682</td>\n",
       "      <td>Cash</td>\n",
       "      <td>Male</td>\n",
       "      <td>60</td>\n",
       "      <td>24155</td>\n",
       "      <td>814,885</td>\n",
       "      <td>24701</td>\n",
       "      <td>1</td>\n",
       "      <td>Winter</td>\n",
       "      <td>47.9460</td>\n",
       "      <td>2.690572</td>\n",
       "      <td>seniors</td>\n",
       "    </tr>\n",
       "    <tr>\n",
       "      <th>353902</th>\n",
       "      <td>10433087</td>\n",
       "      <td>2019-01-02</td>\n",
       "      <td>Pink Cab</td>\n",
       "      <td>AUSTIN TX</td>\n",
       "      <td>35.52</td>\n",
       "      <td>502.96</td>\n",
       "      <td>369.4080</td>\n",
       "      <td>33318</td>\n",
       "      <td>Card</td>\n",
       "      <td>Male</td>\n",
       "      <td>38</td>\n",
       "      <td>6130</td>\n",
       "      <td>698,371</td>\n",
       "      <td>14978</td>\n",
       "      <td>1</td>\n",
       "      <td>Winter</td>\n",
       "      <td>133.5520</td>\n",
       "      <td>3.759910</td>\n",
       "      <td>young adults</td>\n",
       "    </tr>\n",
       "    <tr>\n",
       "      <th>353912</th>\n",
       "      <td>10433097</td>\n",
       "      <td>2019-01-02</td>\n",
       "      <td>Pink Cab</td>\n",
       "      <td>AUSTIN TX</td>\n",
       "      <td>28.50</td>\n",
       "      <td>411.40</td>\n",
       "      <td>336.3000</td>\n",
       "      <td>33427</td>\n",
       "      <td>Cash</td>\n",
       "      <td>Male</td>\n",
       "      <td>31</td>\n",
       "      <td>12266</td>\n",
       "      <td>698,371</td>\n",
       "      <td>14978</td>\n",
       "      <td>1</td>\n",
       "      <td>Winter</td>\n",
       "      <td>75.1000</td>\n",
       "      <td>2.635088</td>\n",
       "      <td>young adults</td>\n",
       "    </tr>\n",
       "    <tr>\n",
       "      <th>353942</th>\n",
       "      <td>10433128</td>\n",
       "      <td>2019-01-02</td>\n",
       "      <td>Pink Cab</td>\n",
       "      <td>BOSTON MA</td>\n",
       "      <td>29.97</td>\n",
       "      <td>390.42</td>\n",
       "      <td>317.6820</td>\n",
       "      <td>59274</td>\n",
       "      <td>Card</td>\n",
       "      <td>Female</td>\n",
       "      <td>25</td>\n",
       "      <td>22928</td>\n",
       "      <td>248,968</td>\n",
       "      <td>80021</td>\n",
       "      <td>1</td>\n",
       "      <td>Winter</td>\n",
       "      <td>72.7380</td>\n",
       "      <td>2.427027</td>\n",
       "      <td>youth</td>\n",
       "    </tr>\n",
       "    <tr>\n",
       "      <th>353945</th>\n",
       "      <td>10433131</td>\n",
       "      <td>2019-01-02</td>\n",
       "      <td>Pink Cab</td>\n",
       "      <td>BOSTON MA</td>\n",
       "      <td>27.27</td>\n",
       "      <td>370.20</td>\n",
       "      <td>324.5130</td>\n",
       "      <td>59768</td>\n",
       "      <td>Cash</td>\n",
       "      <td>Female</td>\n",
       "      <td>25</td>\n",
       "      <td>24526</td>\n",
       "      <td>248,968</td>\n",
       "      <td>80021</td>\n",
       "      <td>1</td>\n",
       "      <td>Winter</td>\n",
       "      <td>45.6870</td>\n",
       "      <td>1.675358</td>\n",
       "      <td>youth</td>\n",
       "    </tr>\n",
       "    <tr>\n",
       "      <th>...</th>\n",
       "      <td>...</td>\n",
       "      <td>...</td>\n",
       "      <td>...</td>\n",
       "      <td>...</td>\n",
       "      <td>...</td>\n",
       "      <td>...</td>\n",
       "      <td>...</td>\n",
       "      <td>...</td>\n",
       "      <td>...</td>\n",
       "      <td>...</td>\n",
       "      <td>...</td>\n",
       "      <td>...</td>\n",
       "      <td>...</td>\n",
       "      <td>...</td>\n",
       "      <td>...</td>\n",
       "      <td>...</td>\n",
       "      <td>...</td>\n",
       "      <td>...</td>\n",
       "      <td>...</td>\n",
       "    </tr>\n",
       "    <tr>\n",
       "      <th>359262</th>\n",
       "      <td>10439960</td>\n",
       "      <td>2019-01-02</td>\n",
       "      <td>Yellow Cab</td>\n",
       "      <td>WASHINGTON DC</td>\n",
       "      <td>33.93</td>\n",
       "      <td>474.47</td>\n",
       "      <td>411.2316</td>\n",
       "      <td>52449</td>\n",
       "      <td>Card</td>\n",
       "      <td>Female</td>\n",
       "      <td>40</td>\n",
       "      <td>23569</td>\n",
       "      <td>418,859</td>\n",
       "      <td>127001</td>\n",
       "      <td>1</td>\n",
       "      <td>Winter</td>\n",
       "      <td>63.2384</td>\n",
       "      <td>1.863790</td>\n",
       "      <td>young adults</td>\n",
       "    </tr>\n",
       "    <tr>\n",
       "      <th>359282</th>\n",
       "      <td>10439984</td>\n",
       "      <td>2019-01-02</td>\n",
       "      <td>Yellow Cab</td>\n",
       "      <td>WASHINGTON DC</td>\n",
       "      <td>40.00</td>\n",
       "      <td>641.78</td>\n",
       "      <td>484.8000</td>\n",
       "      <td>51614</td>\n",
       "      <td>Card</td>\n",
       "      <td>Female</td>\n",
       "      <td>55</td>\n",
       "      <td>12279</td>\n",
       "      <td>418,859</td>\n",
       "      <td>127001</td>\n",
       "      <td>1</td>\n",
       "      <td>Winter</td>\n",
       "      <td>156.9800</td>\n",
       "      <td>3.924500</td>\n",
       "      <td>middle aged</td>\n",
       "    </tr>\n",
       "    <tr>\n",
       "      <th>359320</th>\n",
       "      <td>10440028</td>\n",
       "      <td>2019-01-02</td>\n",
       "      <td>Yellow Cab</td>\n",
       "      <td>WASHINGTON DC</td>\n",
       "      <td>26.22</td>\n",
       "      <td>405.25</td>\n",
       "      <td>327.2256</td>\n",
       "      <td>52389</td>\n",
       "      <td>Card</td>\n",
       "      <td>Female</td>\n",
       "      <td>29</td>\n",
       "      <td>5568</td>\n",
       "      <td>418,859</td>\n",
       "      <td>127001</td>\n",
       "      <td>1</td>\n",
       "      <td>Winter</td>\n",
       "      <td>78.0244</td>\n",
       "      <td>2.975759</td>\n",
       "      <td>young adults</td>\n",
       "    </tr>\n",
       "    <tr>\n",
       "      <th>359326</th>\n",
       "      <td>10440034</td>\n",
       "      <td>2019-01-02</td>\n",
       "      <td>Yellow Cab</td>\n",
       "      <td>WASHINGTON DC</td>\n",
       "      <td>34.68</td>\n",
       "      <td>505.38</td>\n",
       "      <td>470.2608</td>\n",
       "      <td>51877</td>\n",
       "      <td>Cash</td>\n",
       "      <td>Male</td>\n",
       "      <td>46</td>\n",
       "      <td>16993</td>\n",
       "      <td>418,859</td>\n",
       "      <td>127001</td>\n",
       "      <td>1</td>\n",
       "      <td>Winter</td>\n",
       "      <td>35.1192</td>\n",
       "      <td>1.012664</td>\n",
       "      <td>middle aged</td>\n",
       "    </tr>\n",
       "    <tr>\n",
       "      <th>359379</th>\n",
       "      <td>10440093</td>\n",
       "      <td>2019-01-02</td>\n",
       "      <td>Yellow Cab</td>\n",
       "      <td>WASHINGTON DC</td>\n",
       "      <td>4.32</td>\n",
       "      <td>60.41</td>\n",
       "      <td>55.4688</td>\n",
       "      <td>53810</td>\n",
       "      <td>Cash</td>\n",
       "      <td>Male</td>\n",
       "      <td>23</td>\n",
       "      <td>21455</td>\n",
       "      <td>418,859</td>\n",
       "      <td>127001</td>\n",
       "      <td>1</td>\n",
       "      <td>Winter</td>\n",
       "      <td>4.9412</td>\n",
       "      <td>1.143796</td>\n",
       "      <td>youth</td>\n",
       "    </tr>\n",
       "  </tbody>\n",
       "</table>\n",
       "<p>256 rows × 19 columns</p>\n",
       "</div>"
      ],
      "text/plain": [
       "        Transaction ID Date of Travel     Company           City  \\\n",
       "353891        10433076     2019-01-02    Pink Cab     ATLANTA GA   \n",
       "353902        10433087     2019-01-02    Pink Cab      AUSTIN TX   \n",
       "353912        10433097     2019-01-02    Pink Cab      AUSTIN TX   \n",
       "353942        10433128     2019-01-02    Pink Cab      BOSTON MA   \n",
       "353945        10433131     2019-01-02    Pink Cab      BOSTON MA   \n",
       "...                ...            ...         ...            ...   \n",
       "359262        10439960     2019-01-02  Yellow Cab  WASHINGTON DC   \n",
       "359282        10439984     2019-01-02  Yellow Cab  WASHINGTON DC   \n",
       "359320        10440028     2019-01-02  Yellow Cab  WASHINGTON DC   \n",
       "359326        10440034     2019-01-02  Yellow Cab  WASHINGTON DC   \n",
       "359379        10440093     2019-01-02  Yellow Cab  WASHINGTON DC   \n",
       "\n",
       "        KM Travelled  Price Charged  Cost of Trip  Customer ID Payment_Mode  \\\n",
       "353891         17.82         238.62      190.6740        29682         Cash   \n",
       "353902         35.52         502.96      369.4080        33318         Card   \n",
       "353912         28.50         411.40      336.3000        33427         Cash   \n",
       "353942         29.97         390.42      317.6820        59274         Card   \n",
       "353945         27.27         370.20      324.5130        59768         Cash   \n",
       "...              ...            ...           ...          ...          ...   \n",
       "359262         33.93         474.47      411.2316        52449         Card   \n",
       "359282         40.00         641.78      484.8000        51614         Card   \n",
       "359320         26.22         405.25      327.2256        52389         Card   \n",
       "359326         34.68         505.38      470.2608        51877         Cash   \n",
       "359379          4.32          60.41       55.4688        53810         Cash   \n",
       "\n",
       "        Gender  Age  Income (USD/Month) Population   Users  Month of Travel  \\\n",
       "353891    Male   60               24155   814,885    24701                1   \n",
       "353902    Male   38                6130   698,371    14978                1   \n",
       "353912    Male   31               12266   698,371    14978                1   \n",
       "353942  Female   25               22928   248,968    80021                1   \n",
       "353945  Female   25               24526   248,968    80021                1   \n",
       "...        ...  ...                 ...        ...     ...              ...   \n",
       "359262  Female   40               23569   418,859   127001                1   \n",
       "359282  Female   55               12279   418,859   127001                1   \n",
       "359320  Female   29                5568   418,859   127001                1   \n",
       "359326    Male   46               16993   418,859   127001                1   \n",
       "359379    Male   23               21455   418,859   127001                1   \n",
       "\n",
       "        Season    Profit  Profit per km     Age Group  \n",
       "353891  Winter   47.9460       2.690572       seniors  \n",
       "353902  Winter  133.5520       3.759910  young adults  \n",
       "353912  Winter   75.1000       2.635088  young adults  \n",
       "353942  Winter   72.7380       2.427027         youth  \n",
       "353945  Winter   45.6870       1.675358         youth  \n",
       "...        ...       ...            ...           ...  \n",
       "359262  Winter   63.2384       1.863790  young adults  \n",
       "359282  Winter  156.9800       3.924500   middle aged  \n",
       "359320  Winter   78.0244       2.975759  young adults  \n",
       "359326  Winter   35.1192       1.012664   middle aged  \n",
       "359379  Winter    4.9412       1.143796         youth  \n",
       "\n",
       "[256 rows x 19 columns]"
      ]
     },
     "execution_count": 69,
     "metadata": {},
     "output_type": "execute_result"
    }
   ],
   "source": [
    "Merged_Data[Merged_Data[\"Date of Travel\"] == \"2019-01-02\"]"
   ]
  },
  {
   "cell_type": "code",
   "execution_count": 49,
   "id": "7ffb2e92",
   "metadata": {
    "scrolled": true
   },
   "outputs": [
    {
     "data": {
      "text/plain": [
       "Autumn    119916\n",
       "Winter     89881\n",
       "Summer     82769\n",
       "Spring     66826\n",
       "Name: Season, dtype: int64"
      ]
     },
     "execution_count": 49,
     "metadata": {},
     "output_type": "execute_result"
    }
   ],
   "source": [
    "Merged_Data[\"Season\"].value_counts()"
   ]
  },
  {
   "cell_type": "code",
   "execution_count": 50,
   "id": "c2f11097",
   "metadata": {
    "scrolled": true
   },
   "outputs": [
    {
     "data": {
      "text/plain": [
       "Text(0.5, 1.0, 'Transaction number for each company')"
      ]
     },
     "execution_count": 50,
     "metadata": {},
     "output_type": "execute_result"
    },
    {
     "data": {
      "image/png": "[encoded data removed]",
      "text/plain": [
       "<Figure size 432x288 with 1 Axes>"
      ]
     },
     "metadata": {
      "needs_background": "light"
     },
     "output_type": "display_data"
    }
   ],
   "source": [
    "fig, ax = plt.subplots(1,1)\n",
    "p1 = ax.bar(np.arange(2), Merged_Data[\"Company\"].value_counts())\n",
    "ax.bar_label(p1, label_type=\"edge\")\n",
    "ax.set_xticks(np.arange(2), labels=[\"Yellow Cab\", \"Pink Cab\"])\n",
    "ax.set_title(\"Transaction number for each company\")"
   ]
  },
  {
   "cell_type": "code",
   "execution_count": 51,
   "id": "87f33ef3",
   "metadata": {},
   "outputs": [
    {
     "data": {
      "text/plain": [
       "Transaction ID                 int64\n",
       "Date of Travel        datetime64[ns]\n",
       "Company                       object\n",
       "City                          object\n",
       "KM Travelled                 float64\n",
       "Price Charged                float64\n",
       "Cost of Trip                 float64\n",
       "Customer ID                    int64\n",
       "Payment_Mode                  object\n",
       "Gender                        object\n",
       "Age                            int64\n",
       "Income (USD/Month)             int64\n",
       "Population                    object\n",
       "Users                          int64\n",
       "Month of Travel                int64\n",
       "Season                        object\n",
       "dtype: object"
      ]
     },
     "execution_count": 51,
     "metadata": {},
     "output_type": "execute_result"
    }
   ],
   "source": [
    "#convert Users column to int\n",
    "Merged_Data[\"Users\"] = Merged_Data[\"Users\"].str.split(\",\")\n",
    "Merged_Data[\"Users\"] = Merged_Data[\"Users\"].str.join(sep=\"\")\n",
    "Merged_Data[\"Users\"] = pd.to_numeric(Merged_Data[\"Users\"])\n",
    "Merged_Data.dtypes"
   ]
  },
  {
   "cell_type": "code",
   "execution_count": 52,
   "id": "ff235f50",
   "metadata": {},
   "outputs": [],
   "source": [
    "#calculate total revenue for yellow cab\n",
    "Yellow_Cab = Merged_Data[Merged_Data[\"Company\"] == \"Yellow Cab\"]\n",
    "mask2016_yellow = (Yellow_Cab[\"Date of Travel\"]> \"2016-01-01\") & (Yellow_Cab['Date of Travel'] <= \"2016-12-31\")\n",
    "mask2017_yellow = (Yellow_Cab[\"Date of Travel\"]> \"2017-01-01\") & (Yellow_Cab['Date of Travel'] <= \"2017-12-31\")\n",
    "mask2018_yellow = (Yellow_Cab[\"Date of Travel\"]> \"2018-01-01\") & (Yellow_Cab['Date of Travel'] <= \"2018-12-31\")\n",
    "Yellow_Cab_2016_Revenue = Yellow_Cab[mask2016_yellow][\"Price Charged\"].sum()\n",
    "Yellow_Cab_2017_Revenue = Yellow_Cab[mask2017_yellow][\"Price Charged\"].sum()\n",
    "Yellow_Cab_2018_Revenue = Yellow_Cab[mask2018_yellow][\"Price Charged\"].sum()\n",
    "#total revenue for pink cab\n",
    "Pink_Cab = Merged_Data[Merged_Data[\"Company\"] == \"Pink Cab\"]\n",
    "mask2016_pink = (Pink_Cab[\"Date of Travel\"]> \"2016-01-01\") & (Pink_Cab['Date of Travel'] <= \"2016-12-31\")\n",
    "mask2017_pink = (Pink_Cab[\"Date of Travel\"]> \"2017-01-01\") & (Pink_Cab['Date of Travel'] <= \"2017-12-31\")\n",
    "mask2018_pink = (Pink_Cab[\"Date of Travel\"]> \"2018-01-01\") & (Pink_Cab['Date of Travel'] <= \"2018-12-31\")\n",
    "Pink_Cab_2016_Revenue = Pink_Cab[mask2016_pink][\"Price Charged\"].sum()\n",
    "Pink_Cab_2017_Revenue = Pink_Cab[mask2017_pink][\"Price Charged\"].sum()\n",
    "Pink_Cab_2018_Revenue = Pink_Cab[mask2018_pink][\"Price Charged\"].sum()\n"
   ]
  },
  {
   "cell_type": "code",
   "execution_count": 53,
   "id": "b7d2f9b7",
   "metadata": {},
   "outputs": [
    {
     "data": {
      "text/plain": [
       "Text(0.5, 1.0, 'Revenue for the two companies yearwise')"
      ]
     },
     "execution_count": 53,
     "metadata": {},
     "output_type": "execute_result"
    },
    {
     "data": {
      "image/png": "[encoded data removed]",
      "text/plain": [
       "<Figure size 432x288 with 1 Axes>"
      ]
     },
     "metadata": {
      "needs_background": "light"
     },
     "output_type": "display_data"
    }
   ],
   "source": [
    "#draw plot\n",
    "width = 0.35\n",
    "fig, ax = plt.subplots(1,1)\n",
    "p1 = ax.bar(\n",
    "    np.arange(3) - width/2,\n",
    "    np.array([Yellow_Cab_2016_Revenue, Yellow_Cab_2017_Revenue, Yellow_Cab_2018_Revenue]),\n",
    "    width,\n",
    "    label=\"Yellow Cab\"\n",
    ")\n",
    "p2 = ax.bar(\n",
    "    np.arange(3) + width/2,\n",
    "    np.array([Pink_Cab_2016_Revenue, Pink_Cab_2017_Revenue, Pink_Cab_2018_Revenue]),\n",
    "    width,\n",
    "    label=\"Pink Cab\"\n",
    ")\n",
    "ax.legend()\n",
    "ax.set_xticks(np.arange(3), labels=[\"2016\", \"2017\", \"2018\"])\n",
    "ax.set_xlabel(\"Year\")\n",
    "ax.set_ylabel(\"Revenue/millions of dollars\")\n",
    "ax.ticklabel_format(axis=\"y\", style=\"plain\")\n",
    "ax.set_yticks([10000000, 20000000, 30000000, 40000000], labels=[\"10\", \"20\", \"30\", \"40\"])\n",
    "ax.bar_label(p1, label_type=\"edge\")\n",
    "ax.bar_label(p2, label_type=\"edge\")\n",
    "ax.set_title(\"Revenue for the two companies yearwise\")"
   ]
  },
  {
   "cell_type": "code",
   "execution_count": 54,
   "id": "e046b2b9",
   "metadata": {},
   "outputs": [],
   "source": [
    "#categorize city column\n",
    "Merged_Data[\"City\"] = Merged_Data[\"City\"].astype(\"category\")\n"
   ]
  },
  {
   "cell_type": "code",
   "execution_count": 55,
   "id": "d60ea12b",
   "metadata": {},
   "outputs": [],
   "source": [
    "City_Company_User = Merged_Data[[\"City\", \"Users\"]].drop_duplicates()\n",
    "City_Company_User = City_Company_User.set_index(\"City\")\n"
   ]
  },
  {
   "cell_type": "code",
   "execution_count": 56,
   "id": "8e1d7f6d",
   "metadata": {},
   "outputs": [
    {
     "data": {
      "text/html": [
       "<div>\n",
       "<style scoped>\n",
       "    .dataframe tbody tr th:only-of-type {\n",
       "        vertical-align: middle;\n",
       "    }\n",
       "\n",
       "    .dataframe tbody tr th {\n",
       "        vertical-align: top;\n",
       "    }\n",
       "\n",
       "    .dataframe thead th {\n",
       "        text-align: right;\n",
       "    }\n",
       "</style>\n",
       "<table border=\"1\" class=\"dataframe\">\n",
       "  <thead>\n",
       "    <tr style=\"text-align: right;\">\n",
       "      <th></th>\n",
       "      <th>Users</th>\n",
       "      <th>Yellow Cab</th>\n",
       "      <th>Pink Cab</th>\n",
       "      <th>Yellow Cab Percentage</th>\n",
       "      <th>Pink Cab Percentage</th>\n",
       "    </tr>\n",
       "    <tr>\n",
       "      <th>City</th>\n",
       "      <th></th>\n",
       "      <th></th>\n",
       "      <th></th>\n",
       "      <th></th>\n",
       "      <th></th>\n",
       "    </tr>\n",
       "  </thead>\n",
       "  <tbody>\n",
       "    <tr>\n",
       "      <th>ATLANTA GA</th>\n",
       "      <td>24701</td>\n",
       "      <td>2595</td>\n",
       "      <td>1322</td>\n",
       "      <td>0.105056</td>\n",
       "      <td>0.053520</td>\n",
       "    </tr>\n",
       "    <tr>\n",
       "      <th>AUSTIN TX</th>\n",
       "      <td>14978</td>\n",
       "      <td>1914</td>\n",
       "      <td>1354</td>\n",
       "      <td>0.127787</td>\n",
       "      <td>0.090399</td>\n",
       "    </tr>\n",
       "    <tr>\n",
       "      <th>BOSTON MA</th>\n",
       "      <td>80021</td>\n",
       "      <td>2997</td>\n",
       "      <td>2463</td>\n",
       "      <td>0.037453</td>\n",
       "      <td>0.030779</td>\n",
       "    </tr>\n",
       "    <tr>\n",
       "      <th>CHICAGO IL</th>\n",
       "      <td>164468</td>\n",
       "      <td>3000</td>\n",
       "      <td>2859</td>\n",
       "      <td>0.018241</td>\n",
       "      <td>0.017383</td>\n",
       "    </tr>\n",
       "    <tr>\n",
       "      <th>DALLAS TX</th>\n",
       "      <td>22157</td>\n",
       "      <td>2564</td>\n",
       "      <td>1118</td>\n",
       "      <td>0.115720</td>\n",
       "      <td>0.050458</td>\n",
       "    </tr>\n",
       "    <tr>\n",
       "      <th>DENVER CO</th>\n",
       "      <td>12421</td>\n",
       "      <td>1681</td>\n",
       "      <td>1145</td>\n",
       "      <td>0.135335</td>\n",
       "      <td>0.092183</td>\n",
       "    </tr>\n",
       "    <tr>\n",
       "      <th>LOS ANGELES CA</th>\n",
       "      <td>144132</td>\n",
       "      <td>2998</td>\n",
       "      <td>2996</td>\n",
       "      <td>0.020800</td>\n",
       "      <td>0.020787</td>\n",
       "    </tr>\n",
       "    <tr>\n",
       "      <th>MIAMI FL</th>\n",
       "      <td>17675</td>\n",
       "      <td>2334</td>\n",
       "      <td>1480</td>\n",
       "      <td>0.132051</td>\n",
       "      <td>0.083734</td>\n",
       "    </tr>\n",
       "    <tr>\n",
       "      <th>NASHVILLE TN</th>\n",
       "      <td>9270</td>\n",
       "      <td>965</td>\n",
       "      <td>1356</td>\n",
       "      <td>0.104099</td>\n",
       "      <td>0.146278</td>\n",
       "    </tr>\n",
       "    <tr>\n",
       "      <th>NEW YORK NY</th>\n",
       "      <td>302149</td>\n",
       "      <td>3000</td>\n",
       "      <td>2972</td>\n",
       "      <td>0.009929</td>\n",
       "      <td>0.009836</td>\n",
       "    </tr>\n",
       "    <tr>\n",
       "      <th>ORANGE COUNTY</th>\n",
       "      <td>12994</td>\n",
       "      <td>1712</td>\n",
       "      <td>1198</td>\n",
       "      <td>0.131753</td>\n",
       "      <td>0.092196</td>\n",
       "    </tr>\n",
       "    <tr>\n",
       "      <th>PHOENIX AZ</th>\n",
       "      <td>6133</td>\n",
       "      <td>994</td>\n",
       "      <td>763</td>\n",
       "      <td>0.162074</td>\n",
       "      <td>0.124409</td>\n",
       "    </tr>\n",
       "    <tr>\n",
       "      <th>PITTSBURGH PA</th>\n",
       "      <td>3643</td>\n",
       "      <td>574</td>\n",
       "      <td>604</td>\n",
       "      <td>0.157562</td>\n",
       "      <td>0.165797</td>\n",
       "    </tr>\n",
       "    <tr>\n",
       "      <th>SACRAMENTO CA</th>\n",
       "      <td>7044</td>\n",
       "      <td>880</td>\n",
       "      <td>1078</td>\n",
       "      <td>0.124929</td>\n",
       "      <td>0.153038</td>\n",
       "    </tr>\n",
       "    <tr>\n",
       "      <th>SAN DIEGO CA</th>\n",
       "      <td>69995</td>\n",
       "      <td>2886</td>\n",
       "      <td>2909</td>\n",
       "      <td>0.041232</td>\n",
       "      <td>0.041560</td>\n",
       "    </tr>\n",
       "    <tr>\n",
       "      <th>SEATTLE WA</th>\n",
       "      <td>25063</td>\n",
       "      <td>2486</td>\n",
       "      <td>1790</td>\n",
       "      <td>0.099190</td>\n",
       "      <td>0.071420</td>\n",
       "    </tr>\n",
       "    <tr>\n",
       "      <th>SILICON VALLEY</th>\n",
       "      <td>27247</td>\n",
       "      <td>2382</td>\n",
       "      <td>2130</td>\n",
       "      <td>0.087422</td>\n",
       "      <td>0.078174</td>\n",
       "    </tr>\n",
       "    <tr>\n",
       "      <th>TUCSON AZ</th>\n",
       "      <td>5712</td>\n",
       "      <td>934</td>\n",
       "      <td>684</td>\n",
       "      <td>0.163515</td>\n",
       "      <td>0.119748</td>\n",
       "    </tr>\n",
       "    <tr>\n",
       "      <th>WASHINGTON DC</th>\n",
       "      <td>127001</td>\n",
       "      <td>3000</td>\n",
       "      <td>2109</td>\n",
       "      <td>0.023622</td>\n",
       "      <td>0.016606</td>\n",
       "    </tr>\n",
       "  </tbody>\n",
       "</table>\n",
       "</div>"
      ],
      "text/plain": [
       "                 Users  Yellow Cab  Pink Cab  Yellow Cab Percentage  \\\n",
       "City                                                                  \n",
       "ATLANTA GA       24701        2595      1322               0.105056   \n",
       "AUSTIN TX        14978        1914      1354               0.127787   \n",
       "BOSTON MA        80021        2997      2463               0.037453   \n",
       "CHICAGO IL      164468        3000      2859               0.018241   \n",
       "DALLAS TX        22157        2564      1118               0.115720   \n",
       "DENVER CO        12421        1681      1145               0.135335   \n",
       "LOS ANGELES CA  144132        2998      2996               0.020800   \n",
       "MIAMI FL         17675        2334      1480               0.132051   \n",
       "NASHVILLE TN      9270         965      1356               0.104099   \n",
       "NEW YORK NY     302149        3000      2972               0.009929   \n",
       "ORANGE COUNTY    12994        1712      1198               0.131753   \n",
       "PHOENIX AZ        6133         994       763               0.162074   \n",
       "PITTSBURGH PA     3643         574       604               0.157562   \n",
       "SACRAMENTO CA     7044         880      1078               0.124929   \n",
       "SAN DIEGO CA     69995        2886      2909               0.041232   \n",
       "SEATTLE WA       25063        2486      1790               0.099190   \n",
       "SILICON VALLEY   27247        2382      2130               0.087422   \n",
       "TUCSON AZ         5712         934       684               0.163515   \n",
       "WASHINGTON DC   127001        3000      2109               0.023622   \n",
       "\n",
       "                Pink Cab Percentage  \n",
       "City                                 \n",
       "ATLANTA GA                 0.053520  \n",
       "AUSTIN TX                  0.090399  \n",
       "BOSTON MA                  0.030779  \n",
       "CHICAGO IL                 0.017383  \n",
       "DALLAS TX                  0.050458  \n",
       "DENVER CO                  0.092183  \n",
       "LOS ANGELES CA             0.020787  \n",
       "MIAMI FL                   0.083734  \n",
       "NASHVILLE TN               0.146278  \n",
       "NEW YORK NY                0.009836  \n",
       "ORANGE COUNTY              0.092196  \n",
       "PHOENIX AZ                 0.124409  \n",
       "PITTSBURGH PA              0.165797  \n",
       "SACRAMENTO CA              0.153038  \n",
       "SAN DIEGO CA               0.041560  \n",
       "SEATTLE WA                 0.071420  \n",
       "SILICON VALLEY             0.078174  \n",
       "TUCSON AZ                  0.119748  \n",
       "WASHINGTON DC              0.016606  "
      ]
     },
     "execution_count": 56,
     "metadata": {},
     "output_type": "execute_result"
    }
   ],
   "source": [
    "Yellow_City_CustomerNbr = Merged_Data[Merged_Data[\"Company\"] == \"Yellow Cab\"].groupby(\"City\")\n",
    "Yellow_City_CustomerNbr = Yellow_City_CustomerNbr[\"Customer ID\"].nunique()\n",
    "Yellow_City_CustomerNbr.name=\"Yellow Cab\"\n",
    "City_User_Data = pd.concat([City_Company_User, Yellow_City_CustomerNbr], axis=1)\n",
    "Pink_City_CustomerNbr = Merged_Data[Merged_Data[\"Company\"] == \"Pink Cab\"].groupby(\"City\")\n",
    "Pink_City_CustomerNbr = Pink_City_CustomerNbr[\"Customer ID\"].nunique()\n",
    "Pink_City_CustomerNbr.name=\"Pink Cab\"\n",
    "City_User_Data = pd.concat([City_User_Data, Pink_City_CustomerNbr], axis=1)\n",
    "City_User_Data[\"Yellow Cab Percentage\"] = City_User_Data[\"Yellow Cab\"]/City_User_Data[\"Users\"]\n",
    "City_User_Data[\"Pink Cab Percentage\"] = City_User_Data[\"Pink Cab\"]/City_User_Data[\"Users\"]\n",
    "City_User_Data"
   ]
  },
  {
   "cell_type": "code",
   "execution_count": 57,
   "id": "947b0644",
   "metadata": {},
   "outputs": [],
   "source": [
    "Merged_Data[\"Profit\"] = Merged_Data[\"Price Charged\"] - Merged_Data[\"Cost of Trip\"]\n",
    "Merged_Data[\"Profit per km\"] = Merged_Data[\"Profit\"]/Merged_Data[\"KM Travelled\"]\n",
    "Yellow_Cab_ProfitPerKM_2016 = Merged_Data[Merged_Data[\"Company\"] == \"Yellow Cab\"][mask2016_yellow][\"Profit per km\"].mean()\n",
    "Yellow_Cab_ProfitPerKM_2017 = Merged_Data[Merged_Data[\"Company\"] == \"Yellow Cab\"][mask2017_yellow][\"Profit per km\"].mean()\n",
    "Yellow_Cab_ProfitPerKM_2018 = Merged_Data[Merged_Data[\"Company\"] == \"Yellow Cab\"][mask2018_yellow][\"Profit per km\"].mean()\n",
    "Pink_Cab_ProfitPerKM_2016 = Merged_Data[Merged_Data[\"Company\"] == \"Pink Cab\"][mask2016_pink][\"Profit per km\"].mean()\n",
    "Pink_Cab_ProfitPerKM_2017 = Merged_Data[Merged_Data[\"Company\"] == \"Pink Cab\"][mask2017_pink][\"Profit per km\"].mean()\n",
    "Pink_Cab_ProfitPerKM_2018 = Merged_Data[Merged_Data[\"Company\"] == \"Pink Cab\"][mask2018_pink][\"Profit per km\"].mean()"
   ]
  },
  {
   "cell_type": "code",
   "execution_count": 58,
   "id": "ddde3230",
   "metadata": {},
   "outputs": [
    {
     "data": {
      "text/plain": [
       "Text(0.5, 1.0, 'Average profit per km from 2016 to 2018')"
      ]
     },
     "execution_count": 58,
     "metadata": {},
     "output_type": "execute_result"
    },
    {
     "data": {
      "image/png": "[encoded data removed]",
      "text/plain": [
       "<Figure size 432x288 with 1 Axes>"
      ]
     },
     "metadata": {
      "needs_background": "light"
     },
     "output_type": "display_data"
    }
   ],
   "source": [
    "width = 0.35\n",
    "fig, ax = plt.subplots(1,1)\n",
    "p1 = ax.bar(\n",
    "    np.arange(3) - width/2,\n",
    "    [Yellow_Cab_ProfitPerKM_2016, Yellow_Cab_ProfitPerKM_2017, Yellow_Cab_ProfitPerKM_2018],\n",
    "    width,\n",
    "    label=\"Yellow Cab\"\n",
    ")\n",
    "p2 = ax.bar(\n",
    "    np.arange(3) + width/2,\n",
    "    [Pink_Cab_ProfitPerKM_2016, Pink_Cab_ProfitPerKM_2017, Pink_Cab_ProfitPerKM_2018],\n",
    "    width,\n",
    "    label=\"Pink Cab\"\n",
    ")\n",
    "ax.set_xticks(np.arange(3), labels=[\"2016\", \"2017\", \"2018\"])\n",
    "ax.set_xlabel(\"Year\")\n",
    "ax.set_ylabel(\"Profit per km/dollars\")\n",
    "ax.bar_label(p1, label_type=\"edge\")\n",
    "ax.bar_label(p2, label_type=\"edge\")\n",
    "ax.legend()\n",
    "ax.set_title(\"Average profit per km from 2016 to 2018\")"
   ]
  },
  {
   "cell_type": "code",
   "execution_count": 59,
   "id": "23e550a0",
   "metadata": {},
   "outputs": [
    {
     "data": {
      "text/plain": [
       "young adults    129805\n",
       "youth            71224\n",
       "middle aged      44658\n",
       "seniors          28994\n",
       "Name: Age Group, dtype: int64"
      ]
     },
     "execution_count": 59,
     "metadata": {},
     "output_type": "execute_result"
    }
   ],
   "source": [
    "Merged_Data[\"Age Group\"] = pd.cut(\n",
    "    Merged_Data[\"Age\"], \n",
    "    bins=[18, 25, 40, 55, 65], \n",
    "    labels=[\"youth\", \"young adults\", \"middle aged\", \"seniors\"], \n",
    "    include_lowest=True\n",
    ")\n",
    "Merged_Data[Merged_Data[\"Company\"] == \"Yellow Cab\"][\"Age Group\"].value_counts()"
   ]
  },
  {
   "cell_type": "code",
   "execution_count": 60,
   "id": "337ca2e3",
   "metadata": {},
   "outputs": [
    {
     "data": {
      "text/plain": [
       "Text(0.5, 1.0, 'Transaction number in different age groups')"
      ]
     },
     "execution_count": 60,
     "metadata": {},
     "output_type": "execute_result"
    },
    {
     "data": {
      "image/png": "[encoded data removed]",
      "text/plain": [
       "<Figure size 432x288 with 1 Axes>"
      ]
     },
     "metadata": {
      "needs_background": "light"
     },
     "output_type": "display_data"
    }
   ],
   "source": [
    "width = 0.4\n",
    "fig, ax = plt.subplots(1,1)\n",
    "p1 = ax.bar(\n",
    "    np.arange(4) - width/2,\n",
    "    Merged_Data[Merged_Data[\"Company\"] == \"Yellow Cab\"][\"Age Group\"].value_counts(),\n",
    "    width,\n",
    "    label=\"Yellow Cab\"\n",
    ")\n",
    "p2 = ax.bar(\n",
    "    np.arange(4) + width/2,\n",
    "    Merged_Data[Merged_Data[\"Company\"] == \"Pink Cab\"][\"Age Group\"].value_counts(),\n",
    "    width,\n",
    "    label=\"Pink Cab\"\n",
    ")\n",
    "ax.set_xticks(np.arange(4), labels=[\"youth\", \"young adults\", \"middle aged\", \"seniors\"])\n",
    "ax.set_xlabel(\"Age group\")\n",
    "ax.set_ylabel(\"Count\")\n",
    "ax.bar_label(p1, label_type=\"edge\")\n",
    "ax.bar_label(p2, label_type=\"edge\")\n",
    "ax.legend()\n",
    "ax.set_title(\"Transaction number in different age groups\")"
   ]
  },
  {
   "cell_type": "code",
   "execution_count": 61,
   "id": "fb95b240",
   "metadata": {},
   "outputs": [
    {
     "data": {
      "text/plain": [
       "Autumn    31096\n",
       "Winter    20433\n",
       "Summer    19953\n",
       "Spring    13229\n",
       "Name: Season, dtype: int64"
      ]
     },
     "execution_count": 61,
     "metadata": {},
     "output_type": "execute_result"
    }
   ],
   "source": [
    "Merged_Data[\"Season\"] = Merged_Data[\"Season\"].astype(\"category\")\n",
    "Merged_Data[\"Season\"] = Merged_Data[\"Season\"].cat.reorder_categories([\"Spring\", \"Summer\", \"Autumn\", \"Winter\"], ordered=True)\n",
    "Merged_Data[Merged_Data[\"Company\"] == \"Pink Cab\"][\"Season\"].value_counts()"
   ]
  },
  {
   "cell_type": "code",
   "execution_count": 62,
   "id": "0924e31c",
   "metadata": {},
   "outputs": [
    {
     "data": {
      "text/plain": [
       "Text(0.5, 1.0, 'Transaction number in different seasons')"
      ]
     },
     "execution_count": 62,
     "metadata": {},
     "output_type": "execute_result"
    },
    {
     "data": {
      "image/png": "[encoded data removed]",
      "text/plain": [
       "<Figure size 432x288 with 1 Axes>"
      ]
     },
     "metadata": {
      "needs_background": "light"
     },
     "output_type": "display_data"
    }
   ],
   "source": [
    "#seasonality\n",
    "width = 0.35\n",
    "fig, ax = plt.subplots(1,1)\n",
    "p1 = ax.bar(\n",
    "    np.arange(4) - width/2,\n",
    "    Merged_Data[Merged_Data[\"Company\"] == \"Yellow Cab\"][\"Season\"].value_counts(sort=False),\n",
    "    width,\n",
    "    label=\"Yellow Cab\"\n",
    ")\n",
    "p2 = ax.bar(\n",
    "    np.arange(4) + width/2,\n",
    "    Merged_Data[Merged_Data[\"Company\"] == \"Pink Cab\"][\"Season\"].value_counts(sort=False),\n",
    "    width,\n",
    "    label=\"Pink Cab\"\n",
    ")\n",
    "ax.set_xticks(np.arange(4), labels=[\"Spring\", \"Summer\", \"Autumn\", \"Winter\"])\n",
    "ax.set_xlabel(\"Season\")\n",
    "ax.set_ylabel(\"Count\")\n",
    "ax.bar_label(p1, label_type=\"edge\")\n",
    "ax.bar_label(p2, label_type=\"edge\")\n",
    "ax.legend()\n",
    "ax.set_title(\"Transaction number in different seasons\")"
   ]
  },
  {
   "cell_type": "code",
   "execution_count": null,
   "id": "777d3f72",
   "metadata": {},
   "outputs": [],
   "source": []
  },
  {
   "cell_type": "code",
   "execution_count": null,
   "id": "0c9ca3cb",
   "metadata": {},
   "outputs": [],
   "source": []
  }
 ],
 "metadata": {
  "kernelspec": {
   "display_name": "Python 3 (ipykernel)",
   "language": "python",
   "name": "python3"
  },
  "language_info": {
   "codemirror_mode": {
    "name": "ipython",
    "version": 3
   },
   "file_extension": ".py",
   "mimetype": "text/x-python",
   "name": "python",
   "nbconvert_exporter": "python",
   "pygments_lexer": "ipython3",
   "version": "3.9.12"
  }
 },
 "nbformat": 4,
 "nbformat_minor": 5
}
